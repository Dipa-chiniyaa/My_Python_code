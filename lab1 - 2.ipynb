{
 "cells": [
  {
   "cell_type": "markdown",
   "id": "89fa556a",
   "metadata": {},
   "source": [
    "Write a python program to print “Hello Students”."
   ]
  },
  {
   "cell_type": "code",
   "execution_count": 1,
   "id": "fe20d88c",
   "metadata": {},
   "outputs": [
    {
     "name": "stdout",
     "output_type": "stream",
     "text": [
      "Hello Students\n"
     ]
    }
   ],
   "source": [
    " print(\"Hello Students\")"
   ]
  },
  {
   "cell_type": "markdown",
   "id": "e713e4c1",
   "metadata": {},
   "source": [
    "Write a program to print your address i) using single print ii) using multiple print."
   ]
  },
  {
   "cell_type": "code",
   "execution_count": 9,
   "id": "f1a2ba16",
   "metadata": {},
   "outputs": [
    {
     "name": "stdout",
     "output_type": "stream",
     "text": [
      "Gayatri plastic industries\n",
      "Repute food gate\n",
      "shapar veralval\n",
      "\n",
      "Gayatri plastic industries\n",
      "Repute food gate\n",
      "shapar veralval\n"
     ]
    }
   ],
   "source": [
    "print(\"Gayatri plastic industries\")\n",
    "print(\"Repute food gate\")\n",
    "print(\"shapar veralval\")\n",
    "print()\n",
    "print('''Gayatri plastic industries\n",
    "Repute food gate\n",
    "shapar veralval''')\n"
   ]
  },
  {
   "cell_type": "markdown",
   "id": "ef2282a4",
   "metadata": {},
   "source": [
    "Write a program to print addition of two numbers (without input function)."
   ]
  },
  {
   "cell_type": "code",
   "execution_count": 11,
   "id": "d034de70",
   "metadata": {},
   "outputs": [
    {
     "name": "stdout",
     "output_type": "stream",
     "text": [
      "sum : 25\n"
     ]
    }
   ],
   "source": [
    "a = 5\n",
    "b = 20\n",
    "\n",
    "print(\"sum : \" +str(a+b))"
   ]
  },
  {
   "cell_type": "markdown",
   "id": "70f266aa",
   "metadata": {},
   "source": [
    "Write a program to calculate and print average of two numbers (without input function)."
   ]
  },
  {
   "cell_type": "code",
   "execution_count": 12,
   "id": "7861a9e3",
   "metadata": {},
   "outputs": [
    {
     "name": "stdout",
     "output_type": "stream",
     "text": [
      "Average of  5  and  20  is  12.5\n"
     ]
    }
   ],
   "source": [
    "a = 5\n",
    "b = 20\n",
    "avg = (a + b)/2\n",
    "\n",
    "print(\"Average of \",a,\" and \",b,\" is \",avg)"
   ]
  },
  {
   "cell_type": "markdown",
   "id": "b14e6b8b",
   "metadata": {},
   "source": [
    "Write a program to raise indentation error and correct it."
   ]
  },
  {
   "cell_type": "code",
   "execution_count": 15,
   "id": "757f7983",
   "metadata": {},
   "outputs": [
    {
     "name": "stdout",
     "output_type": "stream",
     "text": [
      "this is first lab of python.\n",
      "above line will generate error\n"
     ]
    }
   ],
   "source": [
    "print(\"this is first lab of python.\")\n",
    "   #print(\"this line will generate error\")\n",
    "print(\"above line will generate error\")"
   ]
  },
  {
   "cell_type": "markdown",
   "id": "984c8ec5",
   "metadata": {},
   "source": [
    "Write a program that prints \"Hello-World\" using seprator"
   ]
  },
  {
   "cell_type": "code",
   "execution_count": 17,
   "id": "0d883dc3",
   "metadata": {},
   "outputs": [
    {
     "name": "stdout",
     "output_type": "stream",
     "text": [
      "Hello-World-world\n"
     ]
    }
   ],
   "source": [
    "print(\"Hello\" , \"World\", \"world\",sep=\"-\")"
   ]
  },
  {
   "cell_type": "markdown",
   "id": "643e46b5",
   "metadata": {},
   "source": [
    "Write a program that prints \"Hello-DU Hello DU \" using seperator and using end"
   ]
  },
  {
   "cell_type": "code",
   "execution_count": 19,
   "id": "8eff25be",
   "metadata": {},
   "outputs": [
    {
     "name": "stdout",
     "output_type": "stream",
     "text": [
      "Hello-DU Hello DU\n"
     ]
    }
   ],
   "source": [
    "print(\"Hello\", \"DU\", sep=\"-\", end=\" \")\n",
    "print(\"Hello\", \"DU\")"
   ]
  },
  {
   "cell_type": "markdown",
   "id": "09d73711",
   "metadata": {},
   "source": [
    "#1 wap to calculate simple interest"
   ]
  },
  {
   "cell_type": "code",
   "execution_count": 21,
   "id": "9b4f11ba",
   "metadata": {},
   "outputs": [
    {
     "name": "stdout",
     "output_type": "stream",
     "text": [
      "Enter p : 10\n",
      "Enter r : 10\n",
      "Enter n : 10\n",
      "Simple interest :  10.0\n"
     ]
    }
   ],
   "source": [
    "p = int(input(\"Enter p : \"))\n",
    "r = int(input(\"Enter r : \"))\n",
    "n = int(input(\"Enter n : \"))\n",
    "\n",
    "si = (p * r * n)/100\n",
    "\n",
    "print(\"Simple interest : \", si)"
   ]
  },
  {
   "cell_type": "markdown",
   "id": "7bee69fe",
   "metadata": {},
   "source": [
    "#2 wap to calculate Area of triangle (hint : AREA = height * base *0.5)"
   ]
  },
  {
   "cell_type": "code",
   "execution_count": 22,
   "id": "23ab4635",
   "metadata": {},
   "outputs": [
    {
     "name": "stdout",
     "output_type": "stream",
     "text": [
      "Enter Base : 3\n",
      "Enter height : 5\n",
      "area :  7.5\n"
     ]
    }
   ],
   "source": [
    "b = int(input(\"Enter Base : \"))\n",
    "h = int(input(\"Enter height : \"))\n",
    "\n",
    "area = (b * h) / 2\n",
    "\n",
    "print(\"area : \",area)"
   ]
  },
  {
   "cell_type": "markdown",
   "id": "e309130b",
   "metadata": {},
   "source": [
    "#3 wap to calculate area circumference of Circle (hint : area = pi*r*r circumference = 2*pi*r)"
   ]
  },
  {
   "cell_type": "code",
   "execution_count": 23,
   "id": "c95a5ee2",
   "metadata": {},
   "outputs": [
    {
     "name": "stdout",
     "output_type": "stream",
     "text": [
      "Enter radius : 5\n",
      "Circumference of  5  is  31.400000000000002\n",
      "Area of  5  is  78.5\n"
     ]
    }
   ],
   "source": [
    "r = int(input(\"Enter radius : \"))\n",
    "\n",
    "area = 3.14 * r ** 2\n",
    "\n",
    "crm =   2 * 3.14 * r\n",
    "\n",
    "print(\"Circumference of \",r, \" is \",crm)\n",
    "print(\"Area of \",r, \" is \",area)"
   ]
  },
  {
   "cell_type": "markdown",
   "id": "3ef47381",
   "metadata": {},
   "source": [
    "#4 wap to convert degree into fahrenhit and vice versa (cel = (fah - 32)*5)/9 )"
   ]
  },
  {
   "cell_type": "code",
   "execution_count": 25,
   "id": "cfab95c6",
   "metadata": {},
   "outputs": [
    {
     "name": "stdout",
     "output_type": "stream",
     "text": [
      "Enter celcius : 45\n",
      "Enter fahrenhit : 45\n",
      "45  celcius :  113.0  fahrenhit\n",
      "45  fahrenhit  7.222222222222222  celcius\n"
     ]
    }
   ],
   "source": [
    "cel = int(input(\"Enter celcius : \"))\n",
    "\n",
    "fah = int(input(\"Enter fahrenhit : \"))\n",
    "\n",
    "f = ((cel * 9)/5) + 32\n",
    "\n",
    "c = ((fah - 32)*5)/9\n",
    "\n",
    "print(cel,\" celcius : \",f,\" fahrenhit\")\n",
    "print(fah, \" fahrenhit \",c,\" celcius\")"
   ]
  },
  {
   "cell_type": "markdown",
   "id": "2b36af6c",
   "metadata": {},
   "source": [
    "#5 WAP to calculate total marks and percentage of 5 subjects."
   ]
  },
  {
   "cell_type": "code",
   "execution_count": 27,
   "id": "d90045c4",
   "metadata": {},
   "outputs": [
    {
     "name": "stdout",
     "output_type": "stream",
     "text": [
      "Enter Marks : 30\n",
      "Enter Marks : 30\n",
      "Enter Marks : 28\n",
      "Enter Marks : 30\n",
      "Enter Marks : 27\n",
      "Your total is  145  and  96.66666666666667 %\n"
     ]
    }
   ],
   "source": [
    "s1 = int(input(\"Enter Marks : \"))\n",
    "s2 = int(input(\"Enter Marks : \"))\n",
    "s3 = int(input(\"Enter Marks : \"))\n",
    "s4 = int(input(\"Enter Marks : \"))\n",
    "s5 = int(input(\"Enter Marks : \"))\n",
    "\n",
    "total = s1 + s2 + s3 + s4 + s5 \n",
    "\n",
    "per = ( 100 * total ) / 150\n",
    "\n",
    "print(\"Your total is \",total, \" and \",per,\"%\")"
   ]
  },
  {
   "cell_type": "markdown",
   "id": "2d671634",
   "metadata": {},
   "source": [
    "#6 wap to print multiplication table of given number without using loop"
   ]
  },
  {
   "cell_type": "code",
   "execution_count": 35,
   "id": "9bfd4756",
   "metadata": {},
   "outputs": [
    {
     "name": "stdout",
     "output_type": "stream",
     "text": [
      "Enter number : 5\n",
      "5  x  1 = 5\n",
      "5  x  2 = 10\n",
      "5  x  3 = 15\n",
      "5  x  4 = 20\n",
      "5  x  5 = 25\n",
      "5  x  6 = 30\n",
      "5  x  7 = 35\n",
      "5  x  8 = 40\n",
      "5  x  9 = 45\n",
      "5  x  10 = 50\n"
     ]
    }
   ],
   "source": [
    "n = int(input(\"Enter number : \"))\n",
    "print(n,\" x \",1,\"=\",(n*1))\n",
    "print(n,\" x \",2,\"=\",(n*2))\n",
    "print(n,\" x \",3,\"=\",(n*3))\n",
    "print(n,\" x \",4,\"=\",(n*4))\n",
    "print(n,\" x \",5,\"=\",(n*5))\n",
    "print(n,\" x \",6,\"=\",(n*6))\n",
    "print(n,\" x \",7,\"=\",(n*7))\n",
    "print(n,\" x \",8,\"=\",(n*8))\n",
    "print(n,\" x \",9,\"=\",(n*9))\n",
    "print(n,\" x \",10,\"=\",(n*10))\n",
    "\n"
   ]
  },
  {
   "cell_type": "markdown",
   "id": "948c61d7",
   "metadata": {},
   "source": [
    "#7.o wap to convert seconds into hours, minutes & seconds and print in HH : MM : SS (with modulo)"
   ]
  },
  {
   "cell_type": "code",
   "execution_count": 41,
   "id": "c865871d",
   "metadata": {},
   "outputs": [
    {
     "name": "stdout",
     "output_type": "stream",
     "text": [
      "Enter time : 10000\n",
      "2 : 46 : 40\n"
     ]
    }
   ],
   "source": [
    "sec = int(input(\"Enter time : \"))\n",
    "\n",
    "h = int(sec / 3600)\n",
    "sec %= 3600\n",
    "\n",
    "m = int(sec / 60)\n",
    "sec %= 60\n",
    "\n",
    "print(h, m, sec ,sep=\" : \")"
   ]
  },
  {
   "cell_type": "markdown",
   "id": "2d1fcafa",
   "metadata": {},
   "source": [
    "#7.1 wap to convert seconds into hours, minutes & seconds and print in HH : MM : SS ( withpout modulo)"
   ]
  },
  {
   "cell_type": "code",
   "execution_count": 42,
   "id": "3bd7a7f8",
   "metadata": {},
   "outputs": [
    {
     "name": "stdout",
     "output_type": "stream",
     "text": [
      "Enter time : 10000\n",
      "2 : 46 : 40\n"
     ]
    }
   ],
   "source": [
    "sec = int(input(\"Enter time : \"))\n",
    "\n",
    "h = int(sec / 3600)\n",
    "sec = sec - h*3600\n",
    "\n",
    "m = int(sec / 60)\n",
    "sec = sec - m*60\n",
    "\n",
    "print(h, m, sec ,sep=\" : \")"
   ]
  },
  {
   "cell_type": "markdown",
   "id": "0e4e3cf2",
   "metadata": {},
   "source": [
    "#8. WAP to convert Days into years, weeks & days"
   ]
  },
  {
   "cell_type": "code",
   "execution_count": 44,
   "id": "37844f3a",
   "metadata": {},
   "outputs": [
    {
     "name": "stdout",
     "output_type": "stream",
     "text": [
      "Enter time : 366\n",
      "1 : 0 : 1\n"
     ]
    }
   ],
   "source": [
    "day = int(input(\"Enter time : \"))\n",
    "\n",
    "y = int(day / 365)\n",
    "day %= 365\n",
    "\n",
    "w = int(day / 7)\n",
    "day %= 7\n",
    "\n",
    "print(y,w,day, sep=\" : \")\n"
   ]
  },
  {
   "cell_type": "code",
   "execution_count": null,
   "id": "6b981840",
   "metadata": {},
   "outputs": [],
   "source": []
  }
 ],
 "metadata": {
  "kernelspec": {
   "display_name": "Python 3 (ipykernel)",
   "language": "python",
   "name": "python3"
  },
  "language_info": {
   "codemirror_mode": {
    "name": "ipython",
    "version": 3
   },
   "file_extension": ".py",
   "mimetype": "text/x-python",
   "name": "python",
   "nbconvert_exporter": "python",
   "pygments_lexer": "ipython3",
   "version": "3.9.12"
  }
 },
 "nbformat": 4,
 "nbformat_minor": 5
}
