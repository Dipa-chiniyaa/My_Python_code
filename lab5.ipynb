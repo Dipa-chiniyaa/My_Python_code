{
 "cells": [
  {
   "cell_type": "markdown",
   "id": "b82d8580",
   "metadata": {},
   "source": [
    "___\n",
    "<a href='https://www.darshan.ac.in/'><center> <img width=20% height=20% src='https://www.darshan.ac.in/Content/media/DU_Logo.svg'/></center></a>\n",
    "<pre>\n",
    "<center><b>Python</b></center>\n",
    "<center><b>Lab - 5(LOOP)</b></center>    \n",
    "</pre>\n",
    "____"
   ]
  },
  {
   "cell_type": "markdown",
   "id": "cd356d2e",
   "metadata": {},
   "source": [
    "<pre>\n",
    "<h3> <p style=\"color:red\"> USING WHILE LOOP</p> </h3>\n",
    "</pre>"
   ]
  },
  {
   "cell_type": "markdown",
   "id": "08782d2f",
   "metadata": {},
   "source": [
    "## 1) WAP to print 1 to n"
   ]
  },
  {
   "cell_type": "code",
   "execution_count": 2,
   "id": "a779ec4c",
   "metadata": {},
   "outputs": [
    {
     "name": "stdout",
     "output_type": "stream",
     "text": [
      "Enter the number :5\n",
      "1\n",
      "2\n",
      "3\n",
      "4\n",
      "5\n"
     ]
    }
   ],
   "source": [
    "n = int(input(\"Enter the number :\"))\n",
    "i = 1\n",
    "while (i <= n):\n",
    "    print(i)\n",
    "    i += 1"
   ]
  },
  {
   "cell_type": "markdown",
   "id": "f6f64e52",
   "metadata": {},
   "source": [
    "## 2)WAP to print odd numbers between given two numbers."
   ]
  },
  {
   "cell_type": "code",
   "execution_count": 5,
   "id": "b1afec05",
   "metadata": {},
   "outputs": [
    {
     "name": "stdout",
     "output_type": "stream",
     "text": [
      "Enter the number :5\n",
      "Enter the number :10\n",
      "5\n",
      "7\n",
      "9\n"
     ]
    }
   ],
   "source": [
    "n1 = int(input(\"Enter the number :\"))\n",
    "n2 = int(input(\"Enter the number :\"))\n",
    "i = n1\n",
    "while (i <= n2):\n",
    "    if(i % 2 == 1):\n",
    "        print(i)\n",
    "    i += 1"
   ]
  },
  {
   "cell_type": "markdown",
   "id": "c371b88b",
   "metadata": {},
   "source": [
    " ## 3) WAP to print n number of sum"
   ]
  },
  {
   "cell_type": "code",
   "execution_count": 6,
   "id": "7ad02419",
   "metadata": {},
   "outputs": [
    {
     "name": "stdout",
     "output_type": "stream",
     "text": [
      "Enter the number :5\n",
      "15\n"
     ]
    }
   ],
   "source": [
    "n = int(input(\"Enter the number :\"))\n",
    "sum = 0\n",
    "i = 1\n",
    "while (i <= n):\n",
    "    sum += i\n",
    "    i += 1\n",
    "print(sum)"
   ]
  },
  {
   "cell_type": "markdown",
   "id": "113e4ad1",
   "metadata": {},
   "source": [
    "## 4) WAP to print sum of digits of given number."
   ]
  },
  {
   "cell_type": "code",
   "execution_count": 13,
   "id": "d025abb2",
   "metadata": {},
   "outputs": [
    {
     "name": "stdout",
     "output_type": "stream",
     "text": [
      "Enter the number :123\n",
      "6\n"
     ]
    }
   ],
   "source": [
    "n = int(input(\"Enter the number :\"))\n",
    "sum = 0\n",
    "while (n > 0):\n",
    "    rem = int(n) % 10\n",
    "    sum += rem\n",
    "    n = n // 10\n",
    "print(sum)"
   ]
  },
  {
   "cell_type": "markdown",
   "id": "7a17299a",
   "metadata": {},
   "source": [
    "## 5)  WAP to find whether the given number is prime or not."
   ]
  },
  {
   "cell_type": "code",
   "execution_count": 20,
   "id": "a7ba0f41",
   "metadata": {},
   "outputs": [
    {
     "name": "stdout",
     "output_type": "stream",
     "text": [
      "Enter the number :5\n",
      "5  is prime number.\n"
     ]
    }
   ],
   "source": [
    "n = int(input(\"Enter the number :\"))\n",
    "i = 2\n",
    "flag = 0\n",
    "while (i < n//2):\n",
    "    if(n % i == 0):\n",
    "        flag = 1\n",
    "    i += 1\n",
    "if(flag != 1):\n",
    "    print(n, \" is prime number.\")\n",
    "else :\n",
    "    print(\"It is not prime number.\")"
   ]
  },
  {
   "cell_type": "markdown",
   "id": "babe992c",
   "metadata": {},
   "source": [
    "<pre>\n",
    "<h3><p style=\"color:red\"> USING FOR LOOP </p> </h3>\n",
    "</pre>"
   ]
  },
  {
   "cell_type": "markdown",
   "id": "a8a0a131",
   "metadata": {},
   "source": [
    "## 7) WAP to print sum of series 1–2+3–4+5–6+7...n"
   ]
  },
  {
   "cell_type": "code",
   "execution_count": 25,
   "id": "72de6a9c",
   "metadata": {},
   "outputs": [
    {
     "name": "stdout",
     "output_type": "stream",
     "text": [
      "Enter the number : 7\n",
      "4\n"
     ]
    }
   ],
   "source": [
    "n = int(input(\"Enter the number : \"))\n",
    "sum = 0\n",
    "for i in range(n+1) : \n",
    "    if(i % 2 == 1):\n",
    "        sum += i\n",
    "    else :\n",
    "        sum -= i\n",
    "print(sum)"
   ]
  },
  {
   "cell_type": "markdown",
   "id": "b503d505",
   "metadata": {},
   "source": [
    "## 8) WAP to print multiplication table of given number.(using for loop)"
   ]
  },
  {
   "cell_type": "code",
   "execution_count": 24,
   "id": "bf430fbf",
   "metadata": {},
   "outputs": [
    {
     "name": "stdout",
     "output_type": "stream",
     "text": [
      "Enter number : 5\n",
      "5  x  0 = 0\n",
      "5  x  1 = 5\n",
      "5  x  2 = 10\n",
      "5  x  3 = 15\n",
      "5  x  4 = 20\n",
      "5  x  5 = 25\n",
      "5  x  6 = 30\n",
      "5  x  7 = 35\n",
      "5  x  8 = 40\n",
      "5  x  9 = 45\n",
      "5  x  10 = 50\n"
     ]
    }
   ],
   "source": [
    "n = int(input(\"Enter number : \"))\n",
    "for i in range(11) :\n",
    "    print(n,\" x \",i,\"=\",(n*i))\n",
    "\n"
   ]
  },
  {
   "cell_type": "markdown",
   "id": "a3ffbd15",
   "metadata": {},
   "source": [
    "## 9) WAP to find factorial of the given number."
   ]
  },
  {
   "cell_type": "code",
   "execution_count": 26,
   "id": "537ac3e2",
   "metadata": {},
   "outputs": [
    {
     "name": "stdout",
     "output_type": "stream",
     "text": [
      "Enter the num : 4\n",
      "0\n"
     ]
    }
   ],
   "source": [
    "n = int(input(\"Enter the num : \"))\n",
    "multi = 1\n",
    "i = 1\n",
    "for i in range(n):\n",
    "    multi *= i\n",
    "print(multi)"
   ]
  },
  {
   "cell_type": "markdown",
   "id": "4ebd2c8a",
   "metadata": {},
   "source": [
    "## 10) WAP to find out prime numbers between given two numbers."
   ]
  },
  {
   "cell_type": "code",
   "execution_count": null,
   "id": "c4f8a0c1",
   "metadata": {},
   "outputs": [],
   "source": []
  },
  {
   "cell_type": "markdown",
   "id": "7bd9cdd2",
   "metadata": {},
   "source": [
    "<h3><p style=\"color:red\">EXTRA</p></h3>"
   ]
  },
  {
   "cell_type": "markdown",
   "id": "93cb8a5d",
   "metadata": {},
   "source": [
    "## 1) WAP to Find largest prime factor of given number.\n"
   ]
  },
  {
   "cell_type": "code",
   "execution_count": null,
   "id": "385b9715",
   "metadata": {},
   "outputs": [],
   "source": []
  },
  {
   "cell_type": "markdown",
   "id": "2e2c93ce",
   "metadata": {},
   "source": [
    "## 2) WAP to print Fibonacci series up to number given by user."
   ]
  },
  {
   "cell_type": "code",
   "execution_count": null,
   "id": "19ae8538",
   "metadata": {},
   "outputs": [],
   "source": []
  },
  {
   "cell_type": "markdown",
   "id": "1a9888e1",
   "metadata": {},
   "source": [
    "\n",
    "## 3) WAP to print all the number which are divisible by 11 but not divisible by 2 betweengiven two numbers."
   ]
  },
  {
   "cell_type": "code",
   "execution_count": null,
   "id": "c11adc46",
   "metadata": {},
   "outputs": [],
   "source": []
  }
 ],
 "metadata": {
  "kernelspec": {
   "display_name": "Python 3 (ipykernel)",
   "language": "python",
   "name": "python3"
  },
  "language_info": {
   "codemirror_mode": {
    "name": "ipython",
    "version": 3
   },
   "file_extension": ".py",
   "mimetype": "text/x-python",
   "name": "python",
   "nbconvert_exporter": "python",
   "pygments_lexer": "ipython3",
   "version": "3.9.12"
  }
 },
 "nbformat": 4,
 "nbformat_minor": 5
}
