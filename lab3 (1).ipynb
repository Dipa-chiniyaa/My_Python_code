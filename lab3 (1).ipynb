{
 "cells": [
  {
   "cell_type": "markdown",
   "id": "569ed6a1",
   "metadata": {},
   "source": [
    "## WAP to check whether the given number is positive or negative."
   ]
  },
  {
   "cell_type": "code",
   "execution_count": 2,
   "id": "b9d922e1",
   "metadata": {},
   "outputs": [
    {
     "name": "stdout",
     "output_type": "stream",
     "text": [
      "Enter the number : 5\n",
      "5 is a positive number.\n"
     ]
    }
   ],
   "source": [
    "num = int(input(\"Enter the number : \"))\n",
    "\n",
    "if(num>0) :\n",
    "    print(str(num)+ \" is a positive number.\")\n",
    "else :\n",
    "    print(str(num)+ \" is a negative number.\")\n"
   ]
  },
  {
   "cell_type": "markdown",
   "id": "4850840c",
   "metadata": {},
   "source": [
    "## WAP to check whether the given number is odd or even."
   ]
  },
  {
   "cell_type": "code",
   "execution_count": 6,
   "id": "080879c4",
   "metadata": {},
   "outputs": [
    {
     "name": "stdout",
     "output_type": "stream",
     "text": [
      "Enter the number : 77\n",
      "77 is an odd number.\n"
     ]
    }
   ],
   "source": [
    "num = int(input(\"Enter the number : \"))\n",
    "\n",
    "if(num % 2 == 0) :\n",
    "    print(str(num)+ \" is an even number.\")\n",
    "else :\n",
    "    print(str(num)+ \" is an odd number.\")\n"
   ]
  },
  {
   "cell_type": "markdown",
   "id": "b8e9de22",
   "metadata": {},
   "source": [
    "## WAP to find out largest number from given two numbers."
   ]
  },
  {
   "cell_type": "code",
   "execution_count": 10,
   "id": "78b9a233",
   "metadata": {},
   "outputs": [
    {
     "name": "stdout",
     "output_type": "stream",
     "text": [
      "Enter the number : 45\n",
      "Enter the number : 34\n",
      "45  is the largest among both.\n"
     ]
    }
   ],
   "source": [
    "num1 = int(input(\"Enter the number : \"))\n",
    "num2 = int(input(\"Enter the number : \"))\n",
    "\n",
    "if(num1 >= num2 ) :\n",
    "    if(num1 == num2) :\n",
    "        print(num1, \" and \", num2, \" are same.\")\n",
    "    else :\n",
    "        print(num1, \" is the largest among both.\")\n",
    "else :\n",
    "    print(num2, \" is the largest among both.\")"
   ]
  },
  {
   "cell_type": "markdown",
   "id": "1a60c2f1",
   "metadata": {},
   "source": [
    "## WAP to perform Addition, Subtraction, Multiplication and Division of numbers as per user’s choice."
   ]
  },
  {
   "cell_type": "code",
   "execution_count": 16,
   "id": "8a87f37d",
   "metadata": {},
   "outputs": [
    {
     "name": "stdout",
     "output_type": "stream",
     "text": [
      "Enter the number : 8\n",
      "Enter the number : 8\n",
      "Enter the number: /\n",
      "The accurate answer :  1.0\n"
     ]
    }
   ],
   "source": [
    "num1 = int(input(\"Enter the number : \"))\n",
    "num2 = int(input(\"Enter the number : \"))\n",
    "op = (input(\"Enter the number: \"))\n",
    "\n",
    "if(op == '+') :\n",
    "    print(\"the Answer:  \",(num1 + num2))\n",
    "elif(op == '-') :\n",
    "    print(\"The Answer : \",(num1 - num2))\n",
    "elif(op == '*') :\n",
    "    print(\"The Answer : \",(num1 * num2))\n",
    "elif(op == '//') :\n",
    "    print(\"The  answer : \",(num1 // num2))\n",
    "elif(op == '/') :\n",
    "    print(\"The accurate answer : \",(num1/num2))\n",
    "else : \n",
    "    print(\"INVALID OPERATOR!\")\n"
   ]
  },
  {
   "cell_type": "markdown",
   "id": "3390d1f8",
   "metadata": {},
   "source": [
    "# WAP to find out largest number from given three numbers."
   ]
  },
  {
   "cell_type": "code",
   "execution_count": 17,
   "id": "bfab04f5",
   "metadata": {},
   "outputs": [
    {
     "name": "stdout",
     "output_type": "stream",
     "text": [
      "Enter the number : 6\n",
      "Enter the number : 5\n",
      "Enter the number : 7\n",
      "7 is the largest number.\n",
      "End of if\n"
     ]
    }
   ],
   "source": [
    "num1 = int(input(\"Enter the number : \"))\n",
    "num2 = int(input(\"Enter the number : \"))\n",
    "num3 = int(input(\"Enter the number : \"))\n",
    "\n",
    "\n",
    "if(num1 >= num2):\n",
    "    if(num1 > num3) :\n",
    "        print(str(num1)+\" is the largest number.\")\n",
    "    else :\n",
    "        print(str(num3)+\" is the largest number.\")\n",
    "else :\n",
    "    if(num2 > num3) :\n",
    "        print(str(num2)+\" is the largest number.\")\n",
    "    else :\n",
    "        print(str(num3)+\" is the largest number.\")\n",
    "print(\"End of if\")\n"
   ]
  },
  {
   "cell_type": "markdown",
   "id": "f0c03c17",
   "metadata": {},
   "source": [
    "## WAP to given year is leap year or not."
   ]
  },
  {
   "cell_type": "code",
   "execution_count": 22,
   "id": "b3e99d22",
   "metadata": {},
   "outputs": [
    {
     "name": "stdout",
     "output_type": "stream",
     "text": [
      "Enter the year : 2024\n",
      "2024  is leap year.\n"
     ]
    }
   ],
   "source": [
    "year = int(input(\"Enter the year : \"))\n",
    "\n",
    "if((year % 4 == 0) and (not(year % 100 == 0)) or ( year % 400 == 0)) :\n",
    "    print(year, \" is leap year.\")\n",
    "else :\n",
    "    print(year, \" is not a leap year.\")"
   ]
  },
  {
   "cell_type": "markdown",
   "id": "48d9d456",
   "metadata": {},
   "source": [
    "## WAP to check whether a number is divisible by 5 and 11 or not."
   ]
  },
  {
   "cell_type": "code",
   "execution_count": 25,
   "id": "c5a360f9",
   "metadata": {},
   "outputs": [
    {
     "name": "stdout",
     "output_type": "stream",
     "text": [
      "Let's check if your given number is divisible by 5 and 11 or not.\n",
      "Enter the number : 605\n",
      "605  is divisible by 5 and 11.\n"
     ]
    }
   ],
   "source": [
    "print(\"Let's check if your given number is divisible by 5 and 11 or not.\")\n",
    "num = int(input(\"Enter the number : \"))\n",
    "\n",
    "if((num % 5 == 0) and (num % 11 == 0)) :\n",
    "    print(num, \" is divisible by 5 and 11.\")\n",
    "else :\n",
    "    print(num, \" is not divisible by 5 and 11.\")"
   ]
  },
  {
   "cell_type": "markdown",
   "id": "8d891d0f",
   "metadata": {},
   "source": [
    "## WAP to input week number and print weekday."
   ]
  },
  {
   "cell_type": "code",
   "execution_count": 32,
   "id": "021f68f0",
   "metadata": {},
   "outputs": [
    {
     "name": "stdout",
     "output_type": "stream",
     "text": [
      "Enter week-day number : 7\n",
      "It's sunday. It's funday!...\n"
     ]
    }
   ],
   "source": [
    "day = int(input(\"Enter week-day number : \"))\n",
    "\n",
    "if(day == 1) :\n",
    "    print(\"It's monday.\")\n",
    "\n",
    "elif(day == 2) :\n",
    "    print(\"It's tuesday.\")\n",
    "   \n",
    "elif(day == 3) :\n",
    "    print(\"It's wednesday.\")\n",
    "    \n",
    "elif(day == 4) :\n",
    "    print(\"It's thursday.\")\n",
    "\n",
    "elif(day == 5) :\n",
    "    print(\"It's friday.\")\n",
    "    \n",
    "elif(day == 6) :\n",
    "    print(\"It's saturday.\")\n",
    "\n",
    "elif(day == 7) :\n",
    "    print(\"It's sunday. It's funday!...\")\n",
    "else :\n",
    "    print(\"INVALID Week-day number.\")"
   ]
  },
  {
   "cell_type": "markdown",
   "id": "da30d41b",
   "metadata": {},
   "source": [
    "## WAP to check whether entered character is vowel or not?"
   ]
  },
  {
   "cell_type": "code",
   "execution_count": 29,
   "id": "7e3ddc5d",
   "metadata": {},
   "outputs": [
    {
     "name": "stdout",
     "output_type": "stream",
     "text": [
      "Enter The character: o\n",
      "o  is a vowel, written in lower-case.\n"
     ]
    }
   ],
   "source": [
    "char = input(\"Enter The character: \")\n",
    "\n",
    "if char in \"aeiou\" :\n",
    "    print(char, \" is a vowel, written in lower-case.\")\n",
    "elif char in \"AEIOU\" :\n",
    "    print(char, \" is a vowel, written in Upper-case.\")\n",
    "else :\n",
    "    print(char,\" is consonant.\")"
   ]
  },
  {
   "cell_type": "markdown",
   "id": "e90f5507",
   "metadata": {},
   "source": [
    "## WAP to input electricity unit charges and calculate total electricity bill according to the given condition:\n",
    "<pre>\n",
    "For first 50 units Rs. 0.50/unit\n",
    "For next 100 units Rs. 0.75/unit\n",
    "For next 100 units Rs. 1.20/unit\n",
    "For unit above 250 Rs. 1.50/unit\n",
    "An additional surcharge of 20% is added to the bill.\n",
    "</pre>\n"
   ]
  },
  {
   "cell_type": "code",
   "execution_count": 37,
   "id": "b05f7a5e",
   "metadata": {},
   "outputs": [
    {
     "name": "stdout",
     "output_type": "stream",
     "text": [
      "Check your electricity bill : 200\n",
      "Your total bill is  192.0\n"
     ]
    }
   ],
   "source": [
    "check_bill = int(input(\"Check your electricity bill : \"))\n",
    "bill = 0\n",
    "if(check_bill <= 50) :\n",
    "    bill = bill + check_bill * 0.50 \n",
    "elif(check_bill <= 150) :\n",
    "    bill = bill + 50 * 0.50 + (check_bill - 50) * 0.75\n",
    "elif(check_bill <= 250) :\n",
    "    bill = bill + 50 * 0.50 + 100 * 0.75 + (check_bill - 150) * 1.20\n",
    "else :\n",
    "    bill = bill + 50 * 0.50 + 100 * 0.75 + 100 * 1.20 + (check_bill - 250) * 1.50\n",
    "    \n",
    "bill = bill + bill * 0.20\n",
    "\n",
    "print(\"Your total bill is \", bill)\n",
    "\n"
   ]
  },
  {
   "cell_type": "markdown",
   "id": "3365bba5",
   "metadata": {},
   "source": [
    "## WAP to read marks of five subjects. Calculate percentage and print class accordingly.    Fail below 35, Pass Class between 35 to 45, Second Class between 45 to 60, First Class between 60 to 70, Distinction if more than 70."
   ]
  },
  {
   "cell_type": "code",
   "execution_count": 43,
   "id": "9cc7b9ea",
   "metadata": {},
   "outputs": [
    {
     "name": "stdout",
     "output_type": "stream",
     "text": [
      "Check your result.\n",
      "Enter marks of subject 1 :45\n",
      "Enter marks of subject 1 :45\n",
      "Enter marks of subject 1 :6\n",
      "Enter marks of subject 1 :7\n",
      "Enter marks of subject 1 :33\n",
      "Result :  27.2 % Fail, Better luck next time\n"
     ]
    }
   ],
   "source": [
    "print(\"Check your result.\")\n",
    "\n",
    "mark_1 = int(input(\"Enter marks of subject 1 :\"))\n",
    "mark_2 = int(input(\"Enter marks of subject 1 :\"))\n",
    "mark_3 = int(input(\"Enter marks of subject 1 :\"))\n",
    "mark_4 = int(input(\"Enter marks of subject 1 :\"))\n",
    "mark_5 = int(input(\"Enter marks of subject 1 :\"))\n",
    "\n",
    "total = mark_1 + mark_2 + mark_3 + mark_4 + mark_5\n",
    "\n",
    "res = total * 100 / 500\n",
    "\n",
    "if(res < 35 ) :\n",
    "    print(\"Result : \", res, \"% Fail, Better luck next time\")\n",
    "elif(res < 45) :\n",
    "    print(\"Result : \", res, \"% Pass\")\n",
    "elif(res < 60) :\n",
    "    print(\"Result : \", res, \"% Second class\")\n",
    "elif(res < 70) :\n",
    "    print(\"Result : \", res, \"% First class\")\n",
    "else :\n",
    "    print(\"Result : \", res, \"% Distinction!\")\n",
    "\n"
   ]
  },
  {
   "cell_type": "markdown",
   "id": "72e0ed88",
   "metadata": {},
   "source": [
    "### "
   ]
  },
  {
   "cell_type": "code",
   "execution_count": null,
   "id": "b619d79d",
   "metadata": {},
   "outputs": [],
   "source": []
  }
 ],
 "metadata": {
  "kernelspec": {
   "display_name": "Python 3 (ipykernel)",
   "language": "python",
   "name": "python3"
  },
  "language_info": {
   "codemirror_mode": {
    "name": "ipython",
    "version": 3
   },
   "file_extension": ".py",
   "mimetype": "text/x-python",
   "name": "python",
   "nbconvert_exporter": "python",
   "pygments_lexer": "ipython3",
   "version": "3.9.12"
  }
 },
 "nbformat": 4,
 "nbformat_minor": 5
}
