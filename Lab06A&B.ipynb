{
 "cells": [
  {
   "cell_type": "markdown",
   "id": "e928168d",
   "metadata": {},
   "source": [
    "# A programs\n",
    "#  1. WAP to find sum of all the elements in list."
   ]
  },
  {
   "cell_type": "code",
   "execution_count": 7,
   "id": "829d6744",
   "metadata": {},
   "outputs": [
    {
     "name": "stdout",
     "output_type": "stream",
     "text": [
      "Enter the number of element: 5\n",
      "Enter list element: 1\n",
      "Enter list element: 2\n",
      "Enter list element: 3\n",
      "Enter list element: 4\n",
      "Enter list element: 5\n",
      "[1, 2, 3, 4, 5]\n",
      "sum of the list element is  15\n"
     ]
    }
   ],
   "source": [
    "n = int(input(\"Enter the number of element: \"))\n",
    "list01 = [0]*n\n",
    "sum = 0\n",
    "for i in range(n):\n",
    "    a = int(input(\"Enter list element: \"))\n",
    "    list01[i]= a \n",
    "for i in list01 :\n",
    "    sum += i\n",
    "print(list01)\n",
    "print(\"sum of the list element is \",sum)"
   ]
  },
  {
   "cell_type": "markdown",
   "id": "cfb5ce23",
   "metadata": {},
   "source": [
    "# 2. WAP to find the smallest and largest element in a list."
   ]
  },
  {
   "cell_type": "code",
   "execution_count": 10,
   "id": "79b766f4",
   "metadata": {},
   "outputs": [
    {
     "name": "stdout",
     "output_type": "stream",
     "text": [
      "Enter the number of element: 3\n",
      "Enter list element: 1\n",
      "Enter list element: 4\n",
      "Enter list element: 2\n",
      "[1, 4, 2]\n",
      "min is  1  And Max is  4\n"
     ]
    }
   ],
   "source": [
    "n = int(input(\"Enter the number of element: \"))\n",
    "list01 = [0]*n\n",
    "for i in range(n):\n",
    "    a = int(input(\"Enter list element: \"))\n",
    "    list01[i]= a \n",
    "print(list01)\n",
    "min1 = list01[0]\n",
    "max1 = list01[0]\n",
    "for i in list01 :\n",
    "    if(i < min1):\n",
    "        min1 = i\n",
    "    elif(i > max1) :\n",
    "        max1 = i\n",
    "print(\"min is \",min1,\" And Max is \",max1)"
   ]
  },
  {
   "cell_type": "markdown",
   "id": "0412f4c6",
   "metadata": {},
   "source": [
    "# 3. WAP to take a list of any six product names split the list into two and append the first part to the end of the list."
   ]
  },
  {
   "cell_type": "code",
   "execution_count": 19,
   "id": "f692f811",
   "metadata": {},
   "outputs": [
    {
     "name": "stdout",
     "output_type": "stream",
     "text": [
      "Enter product names: p1\n",
      "Enter product names: p2\n",
      "Enter product names: p3\n",
      "Enter product names: p4\n",
      "Enter product names: p5\n",
      "Enter product names: p6\n",
      "['p1', 'p2', 'p3', 'p4', 'p5', 'p6', 'p1', 'p2', 'p3']\n"
     ]
    }
   ],
   "source": [
    "list01 = [0]*6\n",
    "l1 = [0]*3\n",
    "l2 = [0]*3\n",
    "for i in range(6):\n",
    "    a = input(\"Enter product names: \")\n",
    "    list01[i]= a \n",
    "l1 = list01[0 : 3]\n",
    "l2 = list01[3 : 7]\n",
    "for i in l1 :\n",
    "    list01.append(i)\n",
    "print(list01)"
   ]
  },
  {
   "cell_type": "markdown",
   "id": "bd92e871",
   "metadata": {},
   "source": [
    "# 4. WAP to interchange first and last elements in list entered by a user."
   ]
  },
  {
   "cell_type": "code",
   "execution_count": 22,
   "id": "63aaa5fe",
   "metadata": {},
   "outputs": [
    {
     "name": "stdout",
     "output_type": "stream",
     "text": [
      "Enter the number of element: 5\n",
      "Enter list element: 1\n",
      "Enter list element: 2\n",
      "Enter list element: 3\n",
      "Enter list element: 4\n",
      "Enter list element: 5\n",
      "[5, 2, 3, 4, 1]\n"
     ]
    }
   ],
   "source": [
    "n = int(input(\"Enter the number of element: \"))\n",
    "list01 = [0]*n\n",
    "for i in range(n):\n",
    "    a = int(input(\"Enter list element: \"))\n",
    "    list01[i]= a \n",
    "# fst = list01[0]\n",
    "# lst = list01[n - 1]\n",
    "# list01[0] = lst\n",
    "# list01[n - 1] = fst\n",
    "\n",
    "list01[0] = list01[0] + list01[n - 1]\n",
    "list01[n - 1] = list01[0] - list01[n - 1]\n",
    "list01[0] = list01[0] - list01[n - 1]\n",
    "print(list01)"
   ]
  },
  {
   "cell_type": "markdown",
   "id": "38e6b605",
   "metadata": {},
   "source": [
    "# 5. WAP to interchange the list elements on two positions entered by a user from a list."
   ]
  },
  {
   "cell_type": "code",
   "execution_count": 26,
   "id": "340c079c",
   "metadata": {},
   "outputs": [
    {
     "name": "stdout",
     "output_type": "stream",
     "text": [
      "Enter the number of element: 3\n",
      "Enter list element: 1\n",
      "Enter list element: 2\n",
      "Enter list element: 3\n",
      "Enter first idex : 0\n",
      "ENter next index: 2\n",
      "Ok, so change  1 And  3\n",
      "[3, 2, 1]\n"
     ]
    }
   ],
   "source": [
    "n = int(input(\"Enter the number of element: \"))\n",
    "list01 = [0]*n\n",
    "for i in range(n):\n",
    "    a = int(input(\"Enter list element: \"))\n",
    "    list01[i]= a \n",
    "fst = int(input(\"Enter first idex : \"))\n",
    "lst = int(input(\"ENter next index: \"))\n",
    "print(\"Ok, so change \",list01[fst],\"And \",list01[lst])   \n",
    "list01[fst] = list01[fst] + list01[lst]\n",
    "list01[lst] = list01[fst] - list01[lst]\n",
    "list01[fst] = list01[fst] - list01[lst]\n",
    "print(list01)"
   ]
  },
  {
   "cell_type": "markdown",
   "id": "f69eb92e",
   "metadata": {},
   "source": [
    "# 6. WAP to reverses the list entered by user."
   ]
  },
  {
   "cell_type": "code",
   "execution_count": 35,
   "id": "9033bb24",
   "metadata": {},
   "outputs": [
    {
     "name": "stdout",
     "output_type": "stream",
     "text": [
      "Enter the number of element: 3\n",
      "Enter list element: 1\n",
      "2\n",
      "Enter list element: 2\n",
      "1\n",
      "Enter list element: 3\n",
      "0\n",
      "[3, 2, 1]\n"
     ]
    }
   ],
   "source": [
    "n = int(input(\"Enter the number of element: \"))\n",
    "list01 = [0]*n\n",
    "n = n-1\n",
    "for i in range(0,n+1):\n",
    "    a = int(input(\"Enter list element: \"))\n",
    "    print(n - i)\n",
    "    list01[n - i] = a \n",
    "print(list01)\n",
    "   "
   ]
  },
  {
   "cell_type": "markdown",
   "id": "e23fc84a",
   "metadata": {},
   "source": [
    "## 7. WAP to print all even number in list entered by user."
   ]
  },
  {
   "cell_type": "code",
   "execution_count": 36,
   "id": "6fa61ea9",
   "metadata": {},
   "outputs": [
    {
     "name": "stdout",
     "output_type": "stream",
     "text": [
      "Enter the number of element: 4\n",
      "Enter list element: 1\n",
      "Enter list element: 3\n",
      "Enter list element: 4\n",
      "Enter list element: 6\n",
      "[4, 6]\n"
     ]
    }
   ],
   "source": [
    "n = int(input(\"Enter the number of element: \"))\n",
    "list01 = [0]*n\n",
    "for i in range(n):\n",
    "    a = int(input(\"Enter list element: \"))\n",
    "    list01[i]= a\n",
    "evenList = []\n",
    "for i in list01 :\n",
    "    if i % 2 == 0 :\n",
    "        evenList.append(i)\n",
    "print(evenList)"
   ]
  },
  {
   "cell_type": "markdown",
   "id": "684a89d1",
   "metadata": {},
   "source": [
    "# 8. WAP to print all odd number in list entered by user."
   ]
  },
  {
   "cell_type": "code",
   "execution_count": 38,
   "id": "39c21782",
   "metadata": {},
   "outputs": [
    {
     "name": "stdout",
     "output_type": "stream",
     "text": [
      "Enter the number of element: 4\n",
      "Enter list element: 1\n",
      "Enter list element: 3\n",
      "Enter list element: 4\n",
      "Enter list element: 6\n",
      "[1, 3]\n"
     ]
    }
   ],
   "source": [
    "n = int(input(\"Enter the number of element: \"))\n",
    "list01 = [0]*n\n",
    "for i in range(n):\n",
    "    a = int(input(\"Enter list element: \"))\n",
    "    list01[i]= a\n",
    "oddList = []\n",
    "for i in list01 :\n",
    "    if i % 2 == 1 :\n",
    "        oddList.append(i)\n",
    "print(oddList)"
   ]
  },
  {
   "cell_type": "markdown",
   "id": "58dd980c",
   "metadata": {},
   "source": [
    "# 9. WAP to search an element in a list as entered by user."
   ]
  },
  {
   "cell_type": "code",
   "execution_count": null,
   "id": "764e2b3c",
   "metadata": {},
   "outputs": [],
   "source": [
    "n = int(input(\"Enter the number of element: \"))\n",
    "list01 = [0]*n\n",
    "flag = 0\n",
    "for i in range(n):\n",
    "    a = int(input(\"Enter list element: \"))\n",
    "    list01[i]= a\n",
    "temp = int(input(\"Enter the number : \"))\n",
    "for i in list01 :\n",
    "    if temp == i\n",
    "    flag = 1\n"
   ]
  },
  {
   "cell_type": "markdown",
   "id": "6254c6df",
   "metadata": {},
   "source": [
    "# 10. WAP to sort a list in ascending or descending order as per user’s choice."
   ]
  },
  {
   "cell_type": "code",
   "execution_count": 11,
   "id": "b991bb2d",
   "metadata": {},
   "outputs": [
    {
     "name": "stdout",
     "output_type": "stream",
     "text": [
      "enter a for ascending order, \n",
      "Enter d for Descending order, \n",
      "Make choice : d\n",
      "[91, 89, 44, 43, 34, 26, 25, 10, 4, 0]\n"
     ]
    }
   ],
   "source": [
    "list01 = [25, 10, 43, 26, 34, 44, 91, 89, 4, 0]\n",
    "n = 10\n",
    "ch = input(\"enter a for ascending order, \\nEnter d for Descending order, \\nMake choice : \")\n",
    "if ch == 'a' :\n",
    "    for i in range(n - 1) :\n",
    "        for j in range(n - i - 1) :\n",
    "            if list01[j] > list01[j+1] :\n",
    "                list01[j] = list01[j] + list01[j+1]\n",
    "                list01[j + 1] = list01[j] - list01[j + 1]\n",
    "                list01[j] = list01[j] - list01[j + 1]\n",
    "else :\n",
    "    for i in range(n - 1) :\n",
    "        for j in range(n - i - 1) :\n",
    "            if list01[j] < list01[j+1] :\n",
    "                list01[j] = list01[j] + list01[j+1]\n",
    "                list01[j + 1] = list01[j] - list01[j + 1]\n",
    "                list01[j] = list01[j] - list01[j + 1]\n",
    "\n",
    "print(list01)"
   ]
  },
  {
   "cell_type": "markdown",
   "id": "c6105056",
   "metadata": {},
   "source": [
    "# 11. WAP program to convert a list of characters entered by user into a string."
   ]
  },
  {
   "cell_type": "code",
   "execution_count": 21,
   "id": "0bbb7329",
   "metadata": {},
   "outputs": [
    {
     "name": "stdout",
     "output_type": "stream",
     "text": [
      "Enter s for stop.D\n",
      "Enter character : i\n",
      "Enter character : p\n",
      "Enter character : a\n",
      "Enter character :  \n",
      "Enter character : C\n",
      "Enter character : h\n",
      "Enter character : i\n",
      "Enter character : n\n",
      "Enter character : i\n",
      "Enter character : y\n",
      "Enter character : a\n",
      "Enter character : s\n",
      "Dipa Chiniya\n"
     ]
    }
   ],
   "source": [
    "list01 = []\n",
    "ch = input(\"Enter s for stop.\")\n",
    "while ch != 's' :\n",
    "    list01.append(ch)\n",
    "    ch = input(\"Enter character : \")\n",
    "    \n",
    "print(\"\".join(list01))"
   ]
  },
  {
   "cell_type": "markdown",
   "id": "8ba7f878",
   "metadata": {},
   "source": [
    "# 12. WAP to enter name, quantity and price of 5 products by a user. Generate and print all the details with the Product’s total amount in formatted manner."
   ]
  },
  {
   "cell_type": "code",
   "execution_count": 28,
   "id": "a3823baa",
   "metadata": {},
   "outputs": [
    {
     "name": "stdout",
     "output_type": "stream",
     "text": [
      "Enter number of product you have5\n",
      "[0, 0, 0, 0, 0]\n"
     ]
    }
   ],
   "source": [
    "n = int(input(\"Enter number of product you have\"))\n",
    "name = [0]*n\n",
    "quantity = [0]*n\n",
    "price = [0]*n\n",
    "amount = [0]*n\n",
    "total = 0 \n",
    "for i in range(n) :\n",
    "    name[i] = input(\"Enter product : \")\n",
    "    quantity[i] = int(input(\"Enter quantity: \"))\n",
    "    price[i] = int(input(\"Enter price: \"))\n",
    "    amount[i] = quantity[i]*price[i]\n",
    "    \n",
    "print(\" ------- Product Bill Calculator --------\\n\\n\")\n",
    "print(\"|    Product    ||    quantity    ||    price    ||    Total    |\")\n",
    "for i in range(n) :\n",
    "    print(\"|    \",name[i],\"    ||    \",quantity[i],\"    ||    \",price[i],\"    ||    \",amount[i],\"    |\")\n",
    "    total += amount[i]\n",
    "print(\"\\n\\nTotal bill you have to pay is \",total)"
   ]
  },
  {
   "cell_type": "markdown",
   "id": "d6437fec",
   "metadata": {},
   "source": [
    "# B programs\n",
    "# 1. WAP to count even and odd numbers in a List."
   ]
  },
  {
   "cell_type": "code",
   "execution_count": null,
   "id": "a1f1b31e",
   "metadata": {},
   "outputs": [],
   "source": [
    "n = int(input(\"Enter the number of element: \"))\n",
    "list01 = [0]*n\n",
    "for i in range(n):\n",
    "    a = int(input(\"Enter list element: \"))\n",
    "    list01[i]= a\n",
    "evenList = []\n",
    "oddList = []\n",
    "for i in list01 :\n",
    "    if i % 2 == 0 :\n",
    "        evenList.append(i)\n",
    "    else :\n",
    "        oddList.append(i)\n",
    "print(\"Even Number : \",evenList)\n",
    "print(\"Odd Number : \",oddList)"
   ]
  },
  {
   "cell_type": "markdown",
   "id": "1a552c04",
   "metadata": {},
   "source": [
    "# 2. WAP to remove multiple elements from a list in Python as per value entered by user."
   ]
  },
  {
   "cell_type": "code",
   "execution_count": 34,
   "id": "997f66e2",
   "metadata": {},
   "outputs": [
    {
     "name": "stdout",
     "output_type": "stream",
     "text": [
      "Enter element to Remove :25\n",
      "Enter element to Remove :0\n",
      "Enter element to Remove :4\n",
      "Enter element to Remove :-1\n",
      "[10, 43, 26, 34, 44, 91, 89]\n"
     ]
    }
   ],
   "source": [
    "list01 = [25, 10, 43, 26, 34, 44, 91, 89, 4, 0]\n",
    "n = 0\n",
    "while n != -1 :\n",
    "    n = int(input(\"Enter element to Remove :\"))\n",
    "    if n == -1 :\n",
    "        break \n",
    "    else :\n",
    "        list01.remove(n)\n",
    "print(list01)"
   ]
  },
  {
   "cell_type": "markdown",
   "id": "eca45fc0",
   "metadata": {},
   "source": [
    "# 3. WAP to print duplicates from a list of integers."
   ]
  },
  {
   "cell_type": "code",
   "execution_count": null,
   "id": "a1882159",
   "metadata": {},
   "outputs": [],
   "source": [
    "n = int(input(\"Enter the number of element: \"))\n",
    "list01 = [0]*n\n",
    "duplicate = [0]*n\n",
    "temp = 0\n",
    "for i in range(n):\n",
    "    a = int(input(\"Enter list element: \"))\n",
    "    list01[i]= a\n",
    "    \n",
    "for i in range(n):\n",
    "        temp = list01[i]\n",
    "        for i in list01 :\n",
    "            if(i == temp):\n",
    "                \n",
    "    "
   ]
  },
  {
   "cell_type": "markdown",
   "id": "ca8f5472",
   "metadata": {},
   "source": [
    "# 4. WAP to count the number of strings where the string length is 2 or more and the first and last character are same from a given list of strings."
   ]
  },
  {
   "cell_type": "code",
   "execution_count": null,
   "id": "48f99a80",
   "metadata": {},
   "outputs": [],
   "source": []
  },
  {
   "cell_type": "markdown",
   "id": "fe32afc5",
   "metadata": {},
   "source": [
    "# 5. WAP to check whether a list contains a sub-list and generate all sub-lists of a list."
   ]
  },
  {
   "cell_type": "code",
   "execution_count": null,
   "id": "8cac8349",
   "metadata": {},
   "outputs": [],
   "source": []
  }
 ],
 "metadata": {
  "kernelspec": {
   "display_name": "Python 3 (ipykernel)",
   "language": "python",
   "name": "python3"
  },
  "language_info": {
   "codemirror_mode": {
    "name": "ipython",
    "version": 3
   },
   "file_extension": ".py",
   "mimetype": "text/x-python",
   "name": "python",
   "nbconvert_exporter": "python",
   "pygments_lexer": "ipython3",
   "version": "3.9.12"
  }
 },
 "nbformat": 4,
 "nbformat_minor": 5
}
