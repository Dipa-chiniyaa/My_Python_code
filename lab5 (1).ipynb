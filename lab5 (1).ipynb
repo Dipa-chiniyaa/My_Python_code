{
 "cells": [
  {
   "cell_type": "markdown",
   "id": "b82d8580",
   "metadata": {},
   "source": [
    "___\n",
    "<a href='https://www.darshan.ac.in/'><center> <img width=20% height=20% src='https://www.darshan.ac.in/Content/media/DU_Logo.svg'/></center></a>\n",
    "<pre>\n",
    "<center><b>Python</b></center>\n",
    "<center><b>Lab - 5(LOOP)</b></center>    \n",
    "</pre>\n",
    "____"
   ]
  },
  {
   "cell_type": "markdown",
   "id": "cd356d2e",
   "metadata": {},
   "source": [
    "<pre>\n",
    "<h3> <p style=\"color:red\"> USING WHILE LOOP</p> </h3>\n",
    "</pre>"
   ]
  },
  {
   "cell_type": "markdown",
   "id": "08782d2f",
   "metadata": {},
   "source": [
    "## 1) WAP to print 1 to n"
   ]
  },
  {
   "cell_type": "code",
   "execution_count": 2,
   "id": "a779ec4c",
   "metadata": {},
   "outputs": [
    {
     "name": "stdout",
     "output_type": "stream",
     "text": [
      "Enter the number :5\n",
      "1\n",
      "2\n",
      "3\n",
      "4\n",
      "5\n"
     ]
    }
   ],
   "source": [
    "n = int(input(\"Enter the number :\"))\n",
    "i = 1\n",
    "while (i <= n):\n",
    "    print(i)\n",
    "    i += 1"
   ]
  },
  {
   "cell_type": "markdown",
   "id": "f6f64e52",
   "metadata": {},
   "source": [
    "## 2)WAP to print odd numbers between given two numbers."
   ]
  },
  {
   "cell_type": "code",
   "execution_count": 5,
   "id": "b1afec05",
   "metadata": {},
   "outputs": [
    {
     "name": "stdout",
     "output_type": "stream",
     "text": [
      "Enter the number :5\n",
      "Enter the number :10\n",
      "5\n",
      "7\n",
      "9\n"
     ]
    }
   ],
   "source": [
    "n1 = int(input(\"Enter the number :\"))\n",
    "n2 = int(input(\"Enter the number :\"))\n",
    "i = n1\n",
    "while (i <= n2):\n",
    "    if(i % 2 == 1):\n",
    "        print(i)\n",
    "    i += 1"
   ]
  },
  {
   "cell_type": "markdown",
   "id": "c371b88b",
   "metadata": {},
   "source": [
    " ## 3) WAP to print n number of sum"
   ]
  },
  {
   "cell_type": "code",
   "execution_count": 6,
   "id": "7ad02419",
   "metadata": {},
   "outputs": [
    {
     "name": "stdout",
     "output_type": "stream",
     "text": [
      "Enter the number :5\n",
      "15\n"
     ]
    }
   ],
   "source": [
    "n = int(input(\"Enter the number :\"))\n",
    "sum = 0\n",
    "i = 1\n",
    "while (i <= n):\n",
    "    sum += i\n",
    "    i += 1\n",
    "print(sum)"
   ]
  },
  {
   "cell_type": "markdown",
   "id": "113e4ad1",
   "metadata": {},
   "source": [
    "## 4) WAP to print sum of digits of given number."
   ]
  },
  {
   "cell_type": "code",
   "execution_count": 13,
   "id": "d025abb2",
   "metadata": {},
   "outputs": [
    {
     "name": "stdout",
     "output_type": "stream",
     "text": [
      "Enter the number :123\n",
      "6\n"
     ]
    }
   ],
   "source": [
    "n = int(input(\"Enter the number :\"))\n",
    "sum = 0\n",
    "while (n > 0):\n",
    "    rem = int(n) % 10\n",
    "    sum += rem\n",
    "    n = n // 10\n",
    "print(sum)"
   ]
  },
  {
   "cell_type": "markdown",
   "id": "7a17299a",
   "metadata": {},
   "source": [
    "## 5)  WAP to find whether the given number is prime or not."
   ]
  },
  {
   "cell_type": "code",
   "execution_count": 31,
   "id": "a7ba0f41",
   "metadata": {},
   "outputs": [
    {
     "name": "stdout",
     "output_type": "stream",
     "text": [
      "Enter the number :13751\n",
      "13751  is prime number.\n"
     ]
    }
   ],
   "source": [
    "n = int(input(\"Enter the number :\"))\n",
    "i = 2\n",
    "flag = 0\n",
    "while (i < n//2):\n",
    "    if(n % i == 0):\n",
    "        flag = 1\n",
    "    i += 1\n",
    "if(flag != 1):\n",
    "    print(n, \" is prime number.\")\n",
    "else :\n",
    "    print(\"It is not prime number.\")"
   ]
  },
  {
   "cell_type": "markdown",
   "id": "babe992c",
   "metadata": {},
   "source": [
    "<pre>\n",
    "<h3><p style=\"color:red\"> USING FOR LOOP </p> </h3>\n",
    "</pre>"
   ]
  },
  {
   "cell_type": "markdown",
   "id": "a8a0a131",
   "metadata": {},
   "source": [
    "## 7) WAP to print sum of series 1–2+3–4+5–6+7...n"
   ]
  },
  {
   "cell_type": "code",
   "execution_count": 25,
   "id": "72de6a9c",
   "metadata": {},
   "outputs": [
    {
     "name": "stdout",
     "output_type": "stream",
     "text": [
      "Enter the number : 7\n",
      "4\n"
     ]
    }
   ],
   "source": [
    "n = int(input(\"Enter the number : \"))\n",
    "sum = 0\n",
    "for i in range(n+1) : \n",
    "    if(i % 2 == 1):\n",
    "        sum += i\n",
    "    else :\n",
    "        sum -= i\n",
    "print(sum)"
   ]
  },
  {
   "cell_type": "markdown",
   "id": "b503d505",
   "metadata": {},
   "source": [
    "## 8) WAP to print multiplication table of given number.(using for loop)"
   ]
  },
  {
   "cell_type": "code",
   "execution_count": 24,
   "id": "bf430fbf",
   "metadata": {},
   "outputs": [
    {
     "name": "stdout",
     "output_type": "stream",
     "text": [
      "Enter number : 5\n",
      "5  x  0 = 0\n",
      "5  x  1 = 5\n",
      "5  x  2 = 10\n",
      "5  x  3 = 15\n",
      "5  x  4 = 20\n",
      "5  x  5 = 25\n",
      "5  x  6 = 30\n",
      "5  x  7 = 35\n",
      "5  x  8 = 40\n",
      "5  x  9 = 45\n",
      "5  x  10 = 50\n"
     ]
    }
   ],
   "source": [
    "n = int(input(\"Enter number : \"))\n",
    "for i in range(11) :\n",
    "    print(n,\" x \",i,\"=\",(n*i))\n",
    "\n"
   ]
  },
  {
   "cell_type": "markdown",
   "id": "a3ffbd15",
   "metadata": {},
   "source": [
    "## 9) WAP to find factorial of the given number."
   ]
  },
  {
   "cell_type": "code",
   "execution_count": 3,
   "id": "537ac3e2",
   "metadata": {},
   "outputs": [
    {
     "name": "stdout",
     "output_type": "stream",
     "text": [
      "Enter the num : 5\n",
      "120\n"
     ]
    }
   ],
   "source": [
    "n = int(input(\"Enter the num : \"))\n",
    "multi = 1\n",
    "i = 1\n",
    "for i in range(1,n+1):\n",
    "    multi *= i\n",
    "print(multi)"
   ]
  },
  {
   "cell_type": "markdown",
   "id": "4ebd2c8a",
   "metadata": {},
   "source": [
    "## 10) WAP to find out prime numbers between given two numbers."
   ]
  },
  {
   "cell_type": "code",
   "execution_count": 7,
   "id": "c4f8a0c1",
   "metadata": {},
   "outputs": [
    {
     "name": "stdout",
     "output_type": "stream",
     "text": [
      " Enter Range : \n",
      "Enter the number : 100\n",
      " Enter the number : 1000\n",
      "101\n",
      "103\n",
      "107\n",
      "109\n",
      "113\n",
      "127\n",
      "131\n",
      "137\n",
      "139\n",
      "149\n",
      "151\n",
      "157\n",
      "163\n",
      "167\n",
      "173\n",
      "179\n",
      "181\n",
      "191\n",
      "193\n",
      "197\n",
      "199\n",
      "211\n",
      "223\n",
      "227\n",
      "229\n",
      "233\n",
      "239\n",
      "241\n",
      "251\n",
      "257\n",
      "263\n",
      "269\n",
      "271\n",
      "277\n",
      "281\n",
      "283\n",
      "293\n",
      "307\n",
      "311\n",
      "313\n",
      "317\n",
      "331\n",
      "337\n",
      "347\n",
      "349\n",
      "353\n",
      "359\n",
      "367\n",
      "373\n",
      "379\n",
      "383\n",
      "389\n",
      "397\n",
      "401\n",
      "409\n",
      "419\n",
      "421\n",
      "431\n",
      "433\n",
      "439\n",
      "443\n",
      "449\n",
      "457\n",
      "461\n",
      "463\n",
      "467\n",
      "479\n",
      "487\n",
      "491\n",
      "499\n",
      "503\n",
      "509\n",
      "521\n",
      "523\n",
      "541\n",
      "547\n",
      "557\n",
      "563\n",
      "569\n",
      "571\n",
      "577\n",
      "587\n",
      "593\n",
      "599\n",
      "601\n",
      "607\n",
      "613\n",
      "617\n",
      "619\n",
      "631\n",
      "641\n",
      "643\n",
      "647\n",
      "653\n",
      "659\n",
      "661\n",
      "673\n",
      "677\n",
      "683\n",
      "691\n",
      "701\n",
      "709\n",
      "719\n",
      "727\n",
      "733\n",
      "739\n",
      "743\n",
      "751\n",
      "757\n",
      "761\n",
      "769\n",
      "773\n",
      "787\n",
      "797\n",
      "809\n",
      "811\n",
      "821\n",
      "823\n",
      "827\n",
      "829\n",
      "839\n",
      "853\n",
      "857\n",
      "859\n",
      "863\n",
      "877\n",
      "881\n",
      "883\n",
      "887\n",
      "907\n",
      "911\n",
      "919\n",
      "929\n",
      "937\n",
      "941\n",
      "947\n",
      "953\n",
      "967\n",
      "971\n",
      "977\n",
      "983\n",
      "991\n",
      "997\n",
      "[101, 103, 107, 109, 113, 127, 131, 137, 139, 149, 151, 157, 163, 167, 173, 179, 181, 191, 193, 197, 199, 211, 223, 227, 229, 233, 239, 241, 251, 257, 263, 269, 271, 277, 281, 283, 293, 307, 311, 313, 317, 331, 337, 347, 349, 353, 359, 367, 373, 379, 383, 389, 397, 401, 409, 419, 421, 431, 433, 439, 443, 449, 457, 461, 463, 467, 479, 487, 491, 499, 503, 509, 521, 523, 541, 547, 557, 563, 569, 571, 577, 587, 593, 599, 601, 607, 613, 617, 619, 631, 641, 643, 647, 653, 659, 661, 673, 677, 683, 691, 701, 709, 719, 727, 733, 739, 743, 751, 757, 761, 769, 773, 787, 797, 809, 811, 821, 823, 827, 829, 839, 853, 857, 859, 863, 877, 881, 883, 887, 907, 911, 919, 929, 937, 941, 947, 953, 967, 971, 977, 983, 991, 997]\n"
     ]
    }
   ],
   "source": [
    "print(\" Enter Range : \")\n",
    "n1 = int(input(\"Enter the number : \"))\n",
    "n2 = int(input(\" Enter the number : \"))\n",
    "list1 = list()\n",
    "for temp in range(n1, n2):\n",
    "    i = 2\n",
    "    flag = 0\n",
    "    while (i < temp//2):\n",
    "        if(temp % i == 0):\n",
    "            flag = 1\n",
    "        i += 1\n",
    "    if(flag == 0) :\n",
    "        list1.append(temp)\n",
    "        print(temp)\n",
    "    temp += 1\n",
    "print(list1)"
   ]
  },
  {
   "cell_type": "markdown",
   "id": "7bd9cdd2",
   "metadata": {},
   "source": [
    "<h3><p style=\"color:red\">EXTRA</p></h3>"
   ]
  },
  {
   "cell_type": "markdown",
   "id": "93cb8a5d",
   "metadata": {},
   "source": [
    "## 1) WAP to Find largest prime factor of given number.\n"
   ]
  },
  {
   "cell_type": "code",
   "execution_count": 32,
   "id": "385b9715",
   "metadata": {},
   "outputs": [
    {
     "name": "stdout",
     "output_type": "stream",
     "text": [
      "NUM : 1511 \n",
      "1511\n"
     ]
    }
   ],
   "source": [
    "n = int(input(\"NUM : \"))\n",
    "\n",
    "temp=0\n",
    "for fact in range(1,n+1) :\n",
    "    if(n % fact == 0 ):\n",
    "        flag = 0\n",
    "        for i in range(2,fact) :\n",
    "            if(fact % i == 0) :\n",
    "                flag = 1\n",
    "        if( flag == 0 ) :\n",
    "            if(fact > temp) :\n",
    "                temp = fact\n",
    "print(temp)\n"
   ]
  },
  {
   "cell_type": "markdown",
   "id": "2e2c93ce",
   "metadata": {},
   "source": [
    "## 2) WAP to print Fibonacci series up to number given by user."
   ]
  },
  {
   "cell_type": "code",
   "execution_count": 38,
   "id": "19ae8538",
   "metadata": {},
   "outputs": [
    {
     "name": "stdout",
     "output_type": "stream",
     "text": [
      " NUM : 5\n",
      "[0, 1, 1, 2, 3]\n"
     ]
    }
   ],
   "source": [
    "n = int(input(\" NUM : \"))\n",
    "\n",
    "fibonacci = []\n",
    "n1 = 0\n",
    "n2 = 1\n",
    "n3 = n1 + n2\n",
    "fibonacci.append(n1)\n",
    "fibonacci.append(n2)\n",
    "fibonacci.append(n3)\n",
    "for i in range(n-3) :\n",
    "    n1 = n2 \n",
    "    n2 = n3\n",
    "    n3 = n1 + n2\n",
    "    fibonacci.append(n3)\n",
    "print(fibonacci)"
   ]
  },
  {
   "cell_type": "markdown",
   "id": "1a9888e1",
   "metadata": {},
   "source": [
    "\n",
    "## 3) WAP to print all the number which are divisible by 11 but not divisible by 2 betweengiven two numbers."
   ]
  },
  {
   "cell_type": "code",
   "execution_count": 39,
   "id": "c11adc46",
   "metadata": {},
   "outputs": [
    {
     "name": "stdout",
     "output_type": "stream",
     "text": [
      "enter the range.\n",
      "Enter the number : 10\n",
      "Enter the number : 100\n",
      "[11, 33, 55, 77, 99]\n"
     ]
    }
   ],
   "source": [
    "print(\"enter the range.\")\n",
    "n1 = int(input(\"Enter the number : \"))\n",
    "n2 = int(input(\"Enter the number : \"))\n",
    "list1 = []\n",
    "for i in range(n1, n2+1) :\n",
    "    if((i % 11 == 0) and (i % 2 != 0)) :\n",
    "        list1.append(i)\n",
    "print(list1)"
   ]
  },
  {
   "cell_type": "code",
   "execution_count": null,
   "id": "02a2d9ad",
   "metadata": {},
   "outputs": [],
   "source": []
  }
 ],
 "metadata": {
  "kernelspec": {
   "display_name": "Python 3 (ipykernel)",
   "language": "python",
   "name": "python3"
  },
  "language_info": {
   "codemirror_mode": {
    "name": "ipython",
    "version": 3
   },
   "file_extension": ".py",
   "mimetype": "text/x-python",
   "name": "python",
   "nbconvert_exporter": "python",
   "pygments_lexer": "ipython3",
   "version": "3.9.12"
  }
 },
 "nbformat": 4,
 "nbformat_minor": 5
}
