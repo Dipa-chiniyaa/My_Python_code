{
 "cells": [
  {
   "cell_type": "markdown",
   "id": "672cef4a",
   "metadata": {},
   "source": [
    "___\n",
    "<a href='https://www.darshan.ac.in/'><center> <img width=20% height=20% src='https://www.darshan.ac.in/Content/media/DU_Logo.svg'/></center></a>\n",
    "<pre>\n",
    "<center><b>Python</b></center>\n",
    "<center><b>Lab - 4(String)</b></center>    \n",
    "</pre>\n",
    "____"
   ]
  },
  {
   "cell_type": "markdown",
   "id": "26152a63",
   "metadata": {},
   "source": [
    "## 01) WAP to check given string is palindrome or not.\n"
   ]
  },
  {
   "cell_type": "code",
   "execution_count": 3,
   "id": "2eddb2af",
   "metadata": {},
   "outputs": [
    {
     "name": "stdout",
     "output_type": "stream",
     "text": [
      " Enter a string abc\n",
      "abc is not palindrome string.\n"
     ]
    }
   ],
   "source": [
    "str = input(\" Enter a string \")\n",
    "new_str = str[::-1]\n",
    "\n",
    "if(new_str == str) : \n",
    "    print(str+ \" is palindrome string.\")\n",
    "else :\n",
    "    print(str+ \" is not palindrome string.\")"
   ]
  },
  {
   "cell_type": "markdown",
   "id": "27b73f24",
   "metadata": {},
   "source": [
    "## 02) WAP to reverse the word in given string.\n"
   ]
  },
  {
   "cell_type": "code",
   "execution_count": 48,
   "id": "15d61738",
   "metadata": {},
   "outputs": [
    {
     "name": "stdout",
     "output_type": "stream",
     "text": [
      "Enter a string: a b c d\n",
      "d\n",
      "c\n",
      "b\n",
      "a\n",
      "d c b a \n"
     ]
    }
   ],
   "source": [
    "str1 = input(\"Enter a string: \")\n",
    "list1 = str1.split(\" \")[::-1]\n",
    "# str1 = \" \".join(list1)\n",
    "# print(str)\n",
    "\n",
    "# other method\n",
    "new_str = ''\n",
    "for i in list1:\n",
    "    print(i)\n",
    "    new_str +=i + \" \" \n",
    "print(new_str) "
   ]
  },
  {
   "cell_type": "markdown",
   "id": "6ccfbb86",
   "metadata": {},
   "source": [
    "## 03) WAP to remove ith character from given string."
   ]
  },
  {
   "cell_type": "code",
   "execution_count": 52,
   "id": "02619f39",
   "metadata": {},
   "outputs": [
    {
     "name": "stdout",
     "output_type": "stream",
     "text": [
      "Enter a string : this is a string\n",
      "Enter ith index : 5\n",
      "this s a string\n"
     ]
    }
   ],
   "source": [
    "str1 = input(\"Enter a string : \")\n",
    "i = int(input(\"Enter ith index : \"))\n",
    "str2 = str1[0:i]\n",
    "str3 = str1[i+1:len(str1)+1]\n",
    "\n",
    "print(str2+str3)\n",
    "\n",
    "#other method\n",
    "# new_str = str.replace(str[i],\"\")\n",
    "# print(new_str)"
   ]
  },
  {
   "cell_type": "markdown",
   "id": "2eeb59f5",
   "metadata": {},
   "source": [
    "## 04) WAP to print even length word in string"
   ]
  },
  {
   "cell_type": "code",
   "execution_count": 53,
   "id": "d3168c2a",
   "metadata": {},
   "outputs": [
    {
     "name": "stdout",
     "output_type": "stream",
     "text": [
      " Enter a sting : this is a word\n",
      "this is with even length.\n",
      "is is with even length.\n",
      "a is with odd length.\n",
      "word is with even length.\n"
     ]
    }
   ],
   "source": [
    "str = input(\" Enter a sting : \")\n",
    "list1 = str.split(\" \")\n",
    "i=0\n",
    "for i in list1 :\n",
    "    if(len(i) % 2 == 0):\n",
    "        print(i+ \" is with even length.\")\n",
    "    else :\n",
    "        print(i+ \" is with odd length.\")"
   ]
  },
  {
   "cell_type": "markdown",
   "id": "18c8db8a",
   "metadata": {},
   "source": [
    "## 05) WAP to find length of String without using len function."
   ]
  },
  {
   "cell_type": "code",
   "execution_count": 55,
   "id": "0c2e1ee2",
   "metadata": {},
   "outputs": [
    {
     "name": "stdout",
     "output_type": "stream",
     "text": [
      "Enter a string : dipa\n",
      "Length of string given string  is  4\n"
     ]
    }
   ],
   "source": [
    "str1 = input(\"Enter a string : \")\n",
    "c = 0\n",
    "for i in str1 : \n",
    "    c += 1\n",
    "print(\"Length of string given string  is \",c)"
   ]
  },
  {
   "cell_type": "markdown",
   "id": "5cf1badf",
   "metadata": {},
   "source": [
    "## 06) WAP to count numbers of vowels in given string."
   ]
  },
  {
   "cell_type": "code",
   "execution_count": 58,
   "id": "6106e32b",
   "metadata": {},
   "outputs": [
    {
     "name": "stdout",
     "output_type": "stream",
     "text": [
      "Enter a string : this is a string you are asking for\n",
      "number of vowels in given string is  11\n"
     ]
    }
   ],
   "source": [
    "str1 = input(\"Enter a string : \")\n",
    "c = 0\n",
    "str1 = str1.lower()\n",
    "\n",
    "for i in str1 :\n",
    "    if(i == 'a' or i == 'e' or i == 'i' or i == 'o' or i == 'u'):\n",
    "        c += 1\n",
    "print(\"number of vowels in given string is \",c)"
   ]
  },
  {
   "cell_type": "markdown",
   "id": "cfe4d479",
   "metadata": {},
   "source": [
    "## 07) WAP to do String slicing\n",
    "\n",
    " a)\tLeft (Or anticlockwise) rotate the given string by d elements (where d <= n).\n",
    " \n",
    " \n",
    " b)\tRight (Or clockwise) rotate the given string by d elements (where d <= n).\n",
    "\n",
    " "
   ]
  },
  {
   "cell_type": "code",
   "execution_count": null,
   "id": "963ca4d5",
   "metadata": {},
   "outputs": [
    {
     "ename": "SyntaxError",
     "evalue": "invalid syntax (1648823826.py, line 17)",
     "output_type": "error",
     "traceback": [
      "\u001b[1;36m  Input \u001b[1;32mIn [73]\u001b[1;36m\u001b[0m\n\u001b[1;33m    while(i > x)\u001b[0m\n\u001b[1;37m                ^\u001b[0m\n\u001b[1;31mSyntaxError\u001b[0m\u001b[1;31m:\u001b[0m invalid syntax\n"
     ]
    }
   ],
   "source": [
    "str1 = input(\"Enter a string : \")\n",
    "x = int(input(\"enter ith index : \"))\n",
    "i = x\n",
    "r = ''\n",
    "# this rhs side\n",
    "# while(i < len(str1)):\n",
    "#     r +=str1[i]\n",
    "#     i += 1\n",
    "# i = 0\n",
    "# while(i< x):\n",
    "#     r += str1[i]\n",
    "#     i += 1\n",
    "# print(r)\n",
    "l = ''\n",
    "i = len(str1)-1\n",
    "# this lhs side\n",
    "while(i > x) :\n",
    "    l += i    \n",
    "    i -= 1\n",
    "print(l)"
   ]
  },
  {
   "cell_type": "markdown",
   "id": "4b2e628b",
   "metadata": {},
   "source": [
    "## 08) WAP to count of o in this string. “RCqIoMkolU”   "
   ]
  },
  {
   "cell_type": "code",
   "execution_count": 59,
   "id": "aa3cc887",
   "metadata": {},
   "outputs": [
    {
     "name": "stdout",
     "output_type": "stream",
     "text": [
      "Number of o in string  2\n"
     ]
    }
   ],
   "source": [
    "str1 = \"RCqloMkolU\"\n",
    "str1 = str1.lower()\n",
    "c = 0\n",
    "for i in str1 :\n",
    "    if(i == \"o\"):\n",
    "        c += 1\n",
    "print(\"Number of o in string \",c)"
   ]
  },
  {
   "cell_type": "markdown",
   "id": "901c53cf",
   "metadata": {},
   "source": [
    "<pre>\n",
    "<h3><p style=\"color:red\">EXTRA</p> </h3>\n",
    "</pre>"
   ]
  },
  {
   "cell_type": "markdown",
   "id": "6666227d",
   "metadata": {},
   "source": [
    "## 01) WAP which accepts a string as input to print \"Yes\" if the string is \"yes\" or \"YES\" or \"Yes\", otherwise print \"No\"."
   ]
  },
  {
   "cell_type": "code",
   "execution_count": null,
   "id": "623fddb4",
   "metadata": {},
   "outputs": [],
   "source": []
  },
  {
   "cell_type": "markdown",
   "id": "f51659a2",
   "metadata": {},
   "source": [
    "## 02) WAP to find all duplicate characters in string."
   ]
  },
  {
   "cell_type": "code",
   "execution_count": null,
   "id": "d30705ae",
   "metadata": {},
   "outputs": [],
   "source": []
  }
 ],
 "metadata": {
  "kernelspec": {
   "display_name": "Python 3 (ipykernel)",
   "language": "python",
   "name": "python3"
  },
  "language_info": {
   "codemirror_mode": {
    "name": "ipython",
    "version": 3
   },
   "file_extension": ".py",
   "mimetype": "text/x-python",
   "name": "python",
   "nbconvert_exporter": "python",
   "pygments_lexer": "ipython3",
   "version": "3.9.12"
  }
 },
 "nbformat": 4,
 "nbformat_minor": 5
}
